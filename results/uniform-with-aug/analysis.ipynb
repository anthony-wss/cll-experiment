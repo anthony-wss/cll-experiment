{
 "cells": [
  {
   "cell_type": "code",
   "execution_count": 1,
   "metadata": {},
   "outputs": [],
   "source": [
    "import pandas as pd \n",
    "import wandb\n",
    "api = wandb.Api()\n",
    "\n",
    "# Project is specified by <entity/project-name>\n",
    "runs = api.runs(\"anthony-wss/uniform-with-aug\")\n",
    "\n",
    "summary_list, config_list, name_list = [], [], []\n",
    "for run in runs: \n",
    "    # .summary contains the output keys/values for metrics like accuracy.\n",
    "    #  We call ._json_dict to omit large files \n",
    "    summary_list.append(run.summary._json_dict)\n",
    "\n",
    "    # .config contains the hyperparameters.\n",
    "    #  We remove special values that start with _.\n",
    "    config_list.append(\n",
    "        {k: v for k,v in run.config.items()\n",
    "          if not k.startswith('_')})\n",
    "\n",
    "    # .name is the human-readable name of the run.\n",
    "    name_list.append(run.name)\n",
    "\n",
    "runs_df = pd.DataFrame({\n",
    "    \"summary\": summary_list,\n",
    "    \"config\": config_list,\n",
    "    \"name\": name_list\n",
    "    })"
   ]
  },
  {
   "cell_type": "code",
   "execution_count": 2,
   "metadata": {},
   "outputs": [
    {
     "data": {
      "text/plain": [
       "Index(['ure', 'scel', 'test_acc', 'training_loss', '_timestamp', '_step',\n",
       "       '_runtime', 'train_acc', 'valid_acc', 'lr', 'algo', 'seed', 'model',\n",
       "       'data_aug', 'dataset_name', 'data_cleaning_rate',\n",
       "       'best_epoch-scel_valid_acc', 'best_epoch-scel_training_loss',\n",
       "       'best_epoch-scel_ure', 'best_epoch-scel_scel', 'best_epoch-scel_epoch',\n",
       "       'best_epoch-scel_test_acc', 'best_epoch-scel_train_acc',\n",
       "       'best_epoch-ure_scel', 'best_epoch-ure_epoch',\n",
       "       'best_epoch-ure_test_acc', 'best_epoch-ure_train_acc',\n",
       "       'best_epoch-ure_valid_acc', 'best_epoch-ure_training_loss',\n",
       "       'best_epoch-ure_ure', 'best_epoch-valid_acc_epoch',\n",
       "       'best_epoch-valid_acc_test_acc', 'best_epoch-valid_acc_train_acc',\n",
       "       'best_epoch-valid_acc_valid_acc', 'best_epoch-valid_acc_training_loss',\n",
       "       'best_epoch-valid_acc_ure', 'best_epoch-valid_acc_scel',\n",
       "       '_wandb_runtime'],\n",
       "      dtype='object')"
      ]
     },
     "execution_count": 2,
     "metadata": {},
     "output_type": "execute_result"
    }
   ],
   "source": [
    "df = pd.json_normalize([summary_list[i] | config_list[i] for i in range(len(summary_list))], sep='_')\n",
    "df.columns"
   ]
  },
  {
   "cell_type": "code",
   "execution_count": 4,
   "metadata": {},
   "outputs": [
    {
     "name": "stdout",
     "output_type": "stream",
     "text": [
      "uniform-cifar10 fwd-u\n",
      "69.17 1.22 69.79 1.01\n",
      "uniform-cifar10 ure-ga-u\n",
      "54.62 0.6 54.94 1.34\n",
      "uniform-cifar10 scl-nl\n",
      "67.15 1.9 68.64 1.98\n",
      "uniform-cifar10 scl-exp\n",
      "64.86 0.44 65.4 0.32\n",
      "uniform-cifar10 l-w\n",
      "56.21 0.54 59.18 0.46\n",
      "uniform-cifar10 l-uw\n",
      "60.88 0.77 62.43 0.46\n",
      "uniform-cifar20 fwd-u\n",
      "20.24 0.52 20.62 0.49\n",
      "uniform-cifar20 ure-ga-u\n",
      "15.41 0.97 16.59 0.61\n",
      "uniform-cifar20 scl-nl\n",
      "20.04 0.48 20.68 0.46\n",
      "uniform-cifar20 scl-exp\n",
      "19.4 0.76 21.03 0.64\n",
      "uniform-cifar20 l-w\n",
      "14.35 0.74 19.11 1.29\n",
      "uniform-cifar20 l-uw\n",
      "16.01 0.89 19.42 0.42\n"
     ]
    }
   ],
   "source": [
    "import pandas as pd\n",
    "import numpy as np\n",
    "\n",
    "for dataset_name in ['uniform-cifar10', 'uniform-cifar20']:\n",
    "    for algo in ['fwd-u', 'ure-ga-u', 'scl-nl', 'scl-exp', 'l-w', 'l-uw']:\n",
    "        result = []\n",
    "        result_es = []\n",
    "        for seed in [0, 1, 2]:\n",
    "            # print(\"seed\", seed)\n",
    "            sub_df = df.loc[(df['algo'] == algo) & (df['seed'] == seed) & (df['dataset_name'] == dataset_name)]\n",
    "            \n",
    "            result.append(sub_df.sort_values('valid_acc', ascending=False).iloc[0]['test_acc'])\n",
    "            result_es.append(sub_df.sort_values('best_epoch-valid_acc_valid_acc', ascending=False).iloc[0]['best_epoch-valid_acc_test_acc'])\n",
    "            continue\n",
    "            print(\n",
    "                dataset_name, seed, algo, \n",
    "                # sub_df.sort_values('valid_acc', ascending=False).iloc[0]['valid_acc'],\n",
    "                sub_df.sort_values('valid_acc', ascending=False).iloc[0]['test_acc'],\n",
    "                # sub_df.sort_values('valid_acc', ascending=False).iloc[0]['lr'],\n",
    "                # sub_df.sort_values('test_acc', ascending=False).iloc[0]['test_acc'],\n",
    "                # sub_df.sort_values('best_epoch-ure_ure').iloc[0]['test_acc']\n",
    "                sub_df.sort_values('best_epoch-valid_acc_valid_acc', ascending=False).iloc[0]['best_epoch-valid_acc_test_acc'],\n",
    "                # sub_df.sort_values('best_epoch-valid_acc_valid_acc', ascending=False).iloc[0]['lr']\n",
    "            )\n",
    "        print(dataset_name, algo)\n",
    "        print(round(np.mean(result)*100, 2), round(np.std(result)*100, 2), round(np.mean(result_es)*100, 2), round(np.std(result_es)*100, 2))"
   ]
  }
 ],
 "metadata": {
  "interpreter": {
   "hash": "1ee255679359f4bd634a9e23dbcd8e4411c79884c9ba81005351cf31f63fac40"
  },
  "kernelspec": {
   "display_name": "Python 3.9.16 ('dgslm')",
   "language": "python",
   "name": "python3"
  },
  "language_info": {
   "codemirror_mode": {
    "name": "ipython",
    "version": 3
   },
   "file_extension": ".py",
   "mimetype": "text/x-python",
   "name": "python",
   "nbconvert_exporter": "python",
   "pygments_lexer": "ipython3",
   "version": "3.9.16"
  },
  "orig_nbformat": 4
 },
 "nbformat": 4,
 "nbformat_minor": 2
}
