{
 "cells": [
  {
   "cell_type": "code",
   "execution_count": 1,
   "metadata": {},
   "outputs": [],
   "source": [
    "from utils.wandb_utils import *\n",
    "\n",
    "df = get_df(\"anthony-wss/rob-benchmark\")"
   ]
  },
  {
   "cell_type": "code",
   "execution_count": 5,
   "metadata": {},
   "outputs": [],
   "source": [
    "algos = ['rob-cce', 'rob-mae', 'rob-wmae', 'rob-gce', 'rob-sl']\n",
    "dataset_names = ['clcifar10', 'clcifar10-n', 'clcifar20', 'clcifar20-n']\n",
    "results = {d: {algo:{'last': [], 'es': []} for algo in algos} for d in dataset_names}\n",
    "\n",
    "for dataset in ['clcifar10', 'clcifar10-n', 'clcifar20', 'clcifar20-n']:\n",
    "    for algo in algos:\n",
    "        sub_df = df[(df['algo'] == algo) & (df['dataset_name'] == dataset)]\n",
    "        results[dataset][algo]['last'].append(get_last_result(sub_df))\n",
    "        results[dataset][algo]['es'].append(get_es_result(sub_df))"
   ]
  },
  {
   "cell_type": "code",
   "execution_count": 8,
   "metadata": {},
   "outputs": [
    {
     "name": "stdout",
     "output_type": "stream",
     "text": [
      "clcifar10\n",
      "18.89(21.47)\n",
      "18.25(21.2)\n",
      "15.35(15.66)\n",
      "16.29(20.62)\n",
      "17.69(21.47)\n",
      "clcifar10-n\n",
      "32.34(33.38)\n",
      "41.34(43.31)\n",
      "37.62(40.84)\n",
      "35.0(39.17)\n",
      "29.98(36.31)\n",
      "clcifar20\n",
      "5.0(4.99)\n",
      "5.0(5.51)\n",
      "5.28(6.58)\n",
      "5.0(5.37)\n",
      "5.03(6.38)\n",
      "clcifar20-n\n",
      "5.71(7.6)\n",
      "6.83(8.3)\n",
      "6.36(6.66)\n",
      "6.7(8.5)\n",
      "6.08(7.37)\n"
     ]
    }
   ],
   "source": [
    "for dataset in ['clcifar10', 'clcifar10-n', 'clcifar20', 'clcifar20-n']:\n",
    "    print(dataset)\n",
    "    for algo in algos:\n",
    "        print(f\"{results[dataset][algo]['last'][0]}({results[dataset][algo]['es'][0]})\")"
   ]
  }
 ],
 "metadata": {
  "interpreter": {
   "hash": "1ee255679359f4bd634a9e23dbcd8e4411c79884c9ba81005351cf31f63fac40"
  },
  "kernelspec": {
   "display_name": "Python 3.9.16 ('dgslm')",
   "language": "python",
   "name": "python3"
  },
  "language_info": {
   "codemirror_mode": {
    "name": "ipython",
    "version": 3
   },
   "file_extension": ".py",
   "mimetype": "text/x-python",
   "name": "python",
   "nbconvert_exporter": "python",
   "pygments_lexer": "ipython3",
   "version": "3.9.16"
  },
  "orig_nbformat": 4
 },
 "nbformat": 4,
 "nbformat_minor": 2
}
