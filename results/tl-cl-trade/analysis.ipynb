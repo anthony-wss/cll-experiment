{
 "cells": [
  {
   "cell_type": "code",
   "execution_count": 2,
   "metadata": {},
   "outputs": [],
   "source": [
    "import pandas as pd \n",
    "import wandb\n",
    "api = wandb.Api()\n",
    "\n",
    "# Project is specified by <entity/project-name>\n",
    "runs = api.runs(\"anthony-wss/TL-to-CL-rate-by-validation-size\")\n",
    "\n",
    "summary_list, config_list, name_list = [], [], []\n",
    "for run in runs: \n",
    "    # .summary contains the output keys/values for metrics like accuracy.\n",
    "    #  We call ._json_dict to omit large files \n",
    "    summary_list.append(run.summary._json_dict)\n",
    "\n",
    "    # .config contains the hyperparameters.\n",
    "    #  We remove special values that start with _.\n",
    "    config_list.append(\n",
    "        {k: v for k,v in run.config.items()\n",
    "          if not k.startswith('_')})\n",
    "\n",
    "    # .name is the human-readable name of the run.\n",
    "    name_list.append(run.name)\n",
    "\n",
    "runs_df = pd.DataFrame({\n",
    "    \"summary\": summary_list,\n",
    "    \"config\": config_list,\n",
    "    \"name\": name_list\n",
    "    })"
   ]
  },
  {
   "cell_type": "code",
   "execution_count": 3,
   "metadata": {},
   "outputs": [
    {
     "data": {
      "text/plain": [
       "Index(['scel', '_runtime', 'test_acc', 'train_acc', 'valid_acc',\n",
       "       'training_loss', 'ure', '_step', '_timestamp', 'lr', 'algo', 'seed',\n",
       "       'model', 'data_aug', 'valid_ratio', 'dataset_name',\n",
       "       'data_cleaning_rate', 'best_epoch-scel_scel', 'best_epoch-scel_epoch',\n",
       "       'best_epoch-scel_test_acc', 'best_epoch-scel_train_acc',\n",
       "       'best_epoch-scel_valid_acc', 'best_epoch-scel_training_loss',\n",
       "       'best_epoch-scel_ure', 'best_epoch-valid_acc_scel',\n",
       "       'best_epoch-valid_acc_epoch', 'best_epoch-valid_acc_test_acc',\n",
       "       'best_epoch-valid_acc_train_acc', 'best_epoch-valid_acc_valid_acc',\n",
       "       'best_epoch-valid_acc_training_loss', 'best_epoch-valid_acc_ure',\n",
       "       '_wandb_runtime', 'best_epoch-ure_test_acc', 'best_epoch-ure_train_acc',\n",
       "       'best_epoch-ure_valid_acc', 'best_epoch-ure_training_loss',\n",
       "       'best_epoch-ure_ure', 'best_epoch-ure_scel', 'best_epoch-ure_epoch'],\n",
       "      dtype='object')"
      ]
     },
     "execution_count": 3,
     "metadata": {},
     "output_type": "execute_result"
    }
   ],
   "source": [
    "df = pd.json_normalize([summary_list[i] | config_list[i] for i in range(len(summary_list))], sep='_')\n",
    "df.columns"
   ]
  },
  {
   "cell_type": "code",
   "execution_count": 4,
   "metadata": {},
   "outputs": [
    {
     "name": "stdout",
     "output_type": "stream",
     "text": [
      "seed 0\n",
      "fwd-u 0.2 0.347 0.3269 0.0005 0.3269 0.325\n",
      "fwd-r 0.2 0.296 0.2636 0.0005 0.2838 0.1862\n",
      "fwd-u 0.1 0.34 0.3374 0.0005 0.3554 0.3223\n",
      "fwd-r 0.1 0.298 0.2817 1e-05 0.2817 0.197\n",
      "fwd-u 0.01 0.38 0.3317 5e-05 0.3603 0.3317\n",
      "fwd-r 0.01 0.3 0.2786 1e-05 0.2786 0.1896\n",
      "seed 1\n",
      "fwd-u 0.2 0.37 0.3649 0.0001 0.3649 0.3512\n",
      "fwd-r 0.2 0.296 0.3015 1e-05 0.3015 0.2089\n",
      "fwd-u 0.1 0.368 0.3525 0.0001 0.3525 0.3268\n",
      "fwd-r 0.1 0.302 0.2997 1e-05 0.2997 0.2118\n",
      "fwd-u 0.01 0.4 0.343 5e-05 0.3587 0.343\n",
      "fwd-r 0.01 0.4 0.3078 1e-05 0.3078 0.2056\n"
     ]
    }
   ],
   "source": [
    "import pandas as pd\n",
    "\n",
    "for seed in [0, 1]:\n",
    "    print(\"seed\", seed)\n",
    "    for r in [0.2, 0.1, 0.01]:\n",
    "        for algo in ['fwd-u', 'fwd-r']:\n",
    "            sub_df = df.loc[(df['algo'] == algo) & (df['valid_ratio'] == r) & (df['seed'] == seed)]\n",
    "            \n",
    "            print(\n",
    "                algo, \n",
    "                r, \n",
    "                sub_df.sort_values('valid_acc', ascending=False).iloc[0]['valid_acc'],\n",
    "                sub_df.sort_values('valid_acc', ascending=False).iloc[0]['test_acc'],\n",
    "                sub_df.sort_values('valid_acc', ascending=False).iloc[0]['lr'],\n",
    "                sub_df.sort_values('test_acc', ascending=False).iloc[0]['test_acc'],\n",
    "                sub_df.sort_values('best_epoch-ure_ure').iloc[0]['test_acc']\n",
    "                # sub_df.sort_values('best_epoch-valid_acc_valid_acc', ascending=False).iloc[0]['best_epoch-valid_acc_test_acc'],\n",
    "                # sub_df.sort_values('best_epoch-valid_acc_valid_acc', ascending=False).iloc[0]['lr']\n",
    "            )"
   ]
  }
 ],
 "metadata": {
  "interpreter": {
   "hash": "1ee255679359f4bd634a9e23dbcd8e4411c79884c9ba81005351cf31f63fac40"
  },
  "kernelspec": {
   "display_name": "Python 3.9.16 ('dgslm')",
   "language": "python",
   "name": "python3"
  },
  "language_info": {
   "codemirror_mode": {
    "name": "ipython",
    "version": 3
   },
   "file_extension": ".py",
   "mimetype": "text/x-python",
   "name": "python",
   "nbconvert_exporter": "python",
   "pygments_lexer": "ipython3",
   "version": "3.9.16"
  },
  "orig_nbformat": 4
 },
 "nbformat": 4,
 "nbformat_minor": 2
}
