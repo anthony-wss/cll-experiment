{
 "cells": [
  {
   "cell_type": "code",
   "execution_count": 3,
   "metadata": {},
   "outputs": [],
   "source": [
    "from utils.wandb_utils import *\n",
    "\n",
    "df = get_df(\"anthony-wss/clcifar-noise-removing\")"
   ]
  },
  {
   "cell_type": "code",
   "execution_count": 7,
   "metadata": {},
   "outputs": [],
   "source": [
    "clcifar10_n_result = {algo:{'last': [], 'es': []} for algo in ['ure-ga-u', 'fwd-u', 'scl-exp', 'scl-nl', 'l-w', 'l-uw', 'pc-sigmoid']}\n",
    "clcifar20_n_result = {algo:{'last': [], 'es': []} for algo in ['ure-ga-u', 'fwd-u', 'scl-exp', 'scl-nl', 'l-w', 'l-uw', 'pc-sigmoid']}\n",
    "\n",
    "for algo in ['ure-ga-u', 'fwd-u', 'scl-exp', 'scl-nl', 'l-w', 'l-uw', 'pc-sigmoid']:\n",
    "    for data_cleaning_rate in [0, 0.25, 0.5, 0.75, 1]:\n",
    "        sub_df = df[(df['algo'] == algo) & (df['dataset_name'] == 'clcifar10-n') & (df['data_cleaning_rate'] == data_cleaning_rate)]\n",
    "        clcifar10_n_result[algo]['last'].append(get_last_result(sub_df))\n",
    "        clcifar10_n_result[algo]['es'].append(get_es_result(sub_df))\n",
    "\n",
    "        sub_df = df[(df['algo'] == algo) & (df['dataset_name'] == 'clcifar20-n') & (df['data_cleaning_rate'] == data_cleaning_rate)]\n",
    "        clcifar20_n_result[algo]['last'].append(get_last_result(sub_df))\n",
    "        clcifar20_n_result[algo]['es'].append(get_es_result(sub_df))"
   ]
  },
  {
   "cell_type": "code",
   "execution_count": 11,
   "metadata": {},
   "outputs": [
    {
     "name": "stdout",
     "output_type": "stream",
     "text": [
      "ure-ga-u 31.29\n",
      "fwd-u 37.1\n",
      "scl-exp 37.79\n",
      "scl-nl 35.86\n",
      "l-w 30.1\n",
      "l-uw 32.69\n",
      "pc-sigmoid 19.64\n"
     ]
    }
   ],
   "source": [
    "for algo in ['ure-ga-u', 'fwd-u', 'scl-exp', 'scl-nl', 'l-w', 'l-uw', 'pc-sigmoid']:\n",
    "    print(algo, clcifar10_n_result[algo]['last'][0])"
   ]
  }
 ],
 "metadata": {
  "interpreter": {
   "hash": "1ee255679359f4bd634a9e23dbcd8e4411c79884c9ba81005351cf31f63fac40"
  },
  "kernelspec": {
   "display_name": "Python 3.9.16 ('dgslm')",
   "language": "python",
   "name": "python3"
  },
  "language_info": {
   "codemirror_mode": {
    "name": "ipython",
    "version": 3
   },
   "file_extension": ".py",
   "mimetype": "text/x-python",
   "name": "python",
   "nbconvert_exporter": "python",
   "pygments_lexer": "ipython3",
   "version": "3.9.16"
  },
  "orig_nbformat": 4
 },
 "nbformat": 4,
 "nbformat_minor": 2
}
